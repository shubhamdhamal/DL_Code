{
 "cells": [
  {
   "cell_type": "code",
   "execution_count": 1,
   "id": "4f15699f",
   "metadata": {},
   "outputs": [],
   "source": [
    "import pandas as pd\n",
    "import numpy as np\n",
    "import pickle\n",
    "import matplotlib.pyplot as plt\n",
    "import tensorflow as tf\n",
    "import seaborn as sns\n",
    "from sklearn.model_selection import train_test_split\n",
    "from sklearn.preprocessing import StandardScaler\n",
    "from sklearn.metrics import confusion_matrix\n",
    "from keras.models import Model, load_model, Sequential\n",
    "from keras.layers import Input, Dense\n",
    "from keras.callbacks import ModelCheckpoint, TensorBoard"
   ]
  },
  {
   "cell_type": "code",
   "execution_count": 2,
   "id": "f3c08c27",
   "metadata": {},
   "outputs": [],
   "source": [
    "%matplotlib inline\n",
    "sns.set(style='whitegrid')"
   ]
  },
  {
   "cell_type": "code",
   "execution_count": 3,
   "id": "ac038b95",
   "metadata": {},
   "outputs": [],
   "source": [
    "df = pd.read_csv(\"C:\\\\Users\\\\Shubham Dhamal\\\\Downloads\\\\creditcard.csv\")"
   ]
  },
  {
   "cell_type": "code",
   "execution_count": 4,
   "id": "e872d2fa",
   "metadata": {},
   "outputs": [],
   "source": [
    "df = df.drop(['Time'], axis=1)"
   ]
  },
  {
   "cell_type": "code",
   "execution_count": 5,
   "id": "406a8f37",
   "metadata": {},
   "outputs": [],
   "source": [
    "df['Amount'] = StandardScaler().fit_transform(df['Amount'].values.reshape(-1, 1))"
   ]
  },
  {
   "cell_type": "code",
   "execution_count": 6,
   "id": "b1ee6071",
   "metadata": {},
   "outputs": [],
   "source": [
    "df_fraud = df[df['Class']==1]\n",
    "df_normal = df[df['Class']==0]\n",
    "df_normal = df_normal.sample(frac = 1.0).reset_index(drop = True) #Just shuffling\n",
    "df_normal_1 = df_normal.iloc[:int(df_normal.shape[0]*0.8),:] #80% of normal data for training\n",
    "df_normal_2 = df_normal.iloc[int(df_normal.shape[0]*0.8):,:] #20% of normal data to merge with fraudulent (test set)"
   ]
  },
  {
   "cell_type": "code",
   "execution_count": 7,
   "id": "c3ae9e1b",
   "metadata": {},
   "outputs": [],
   "source": [
    "X_test = pd.concat([df_fraud,df_normal_2], axis = 0)\n",
    "X_test = X_test.sample(frac = 1.0).reset_index(drop = True) #Just shuffling\n",
    " \n",
    "#Separate in input and target variables\n",
    "X_train = df_normal_1[df_normal_1['Class'] == 0]\n",
    "X_train = X_train.drop(['Class'], axis=1)\n",
    " \n",
    "y_test = X_test['Class']\n",
    "X_test = X_test.drop(['Class'], axis=1)"
   ]
  },
  {
   "cell_type": "code",
   "execution_count": 8,
   "id": "0e5797f7",
   "metadata": {},
   "outputs": [],
   "source": [
    "#Build the Neural Network\n",
    "input_dim = X_train.shape[1]\n",
    "encoding_dim = 14\n",
    " \n",
    "model = Sequential()\n",
    "model.add(Dense(29,input_dim = input_dim, activation=\"relu\"))\n",
    "model.add(Dense(14, activation=\"relu\"))\n",
    "model.add(Dense(7, activation=\"relu\"))\n",
    "model.add(Dense(14, activation=\"relu\"))\n",
    "model.add(Dense(input_dim, activation=\"sigmoid\"))\n",
    "model.compile(optimizer='adam', loss='mean_squared_error', metrics=['accuracy'])"
   ]
  },
  {
   "cell_type": "code",
   "execution_count": 9,
   "id": "744f8630",
   "metadata": {},
   "outputs": [
    {
     "name": "stdout",
     "output_type": "stream",
     "text": [
      "Model: \"sequential\"\n",
      "_________________________________________________________________\n",
      " Layer (type)                Output Shape              Param #   \n",
      "=================================================================\n",
      " dense (Dense)               (None, 29)                870       \n",
      "                                                                 \n",
      " dense_1 (Dense)             (None, 14)                420       \n",
      "                                                                 \n",
      " dense_2 (Dense)             (None, 7)                 105       \n",
      "                                                                 \n",
      " dense_3 (Dense)             (None, 14)                112       \n",
      "                                                                 \n",
      " dense_4 (Dense)             (None, 29)                435       \n",
      "                                                                 \n",
      "=================================================================\n",
      "Total params: 1,942\n",
      "Trainable params: 1,942\n",
      "Non-trainable params: 0\n",
      "_________________________________________________________________\n"
     ]
    }
   ],
   "source": [
    "model.summary()"
   ]
  },
  {
   "cell_type": "code",
   "execution_count": 10,
   "id": "7e6eeb43",
   "metadata": {},
   "outputs": [],
   "source": [
    "#Fit the autoencoder and check loss for train and test\n",
    "checkpointer = ModelCheckpoint(filepath=\"nae.h5\", verbose=0, save_best_only=True)"
   ]
  },
  {
   "cell_type": "code",
   "execution_count": 12,
   "id": "e207b609",
   "metadata": {},
   "outputs": [
    {
     "name": "stdout",
     "output_type": "stream",
     "text": [
      "Epoch 1/10\n",
      "7108/7108 [==============================] - 19s 3ms/step - loss: 0.7972 - accuracy: 0.5453 - val_loss: 1.0643 - val_accuracy: 0.5394\n",
      "Epoch 2/10\n",
      "7108/7108 [==============================] - 18s 3ms/step - loss: 0.7960 - accuracy: 0.5445 - val_loss: 1.0648 - val_accuracy: 0.5502\n",
      "Epoch 3/10\n",
      "7108/7108 [==============================] - 28s 4ms/step - loss: 0.7950 - accuracy: 0.5430 - val_loss: 1.0667 - val_accuracy: 0.5492\n",
      "Epoch 4/10\n",
      "7108/7108 [==============================] - 18s 3ms/step - loss: 0.7939 - accuracy: 0.5437 - val_loss: 1.0611 - val_accuracy: 0.5425\n",
      "Epoch 5/10\n",
      "7108/7108 [==============================] - 23s 3ms/step - loss: 0.7933 - accuracy: 0.5484 - val_loss: 1.0608 - val_accuracy: 0.5451\n",
      "Epoch 6/10\n",
      "7108/7108 [==============================] - 18s 2ms/step - loss: 0.7927 - accuracy: 0.5502 - val_loss: 1.0594 - val_accuracy: 0.5561\n",
      "Epoch 7/10\n",
      "7108/7108 [==============================] - 29s 4ms/step - loss: 0.7922 - accuracy: 0.5521 - val_loss: 1.0605 - val_accuracy: 0.5486\n",
      "Epoch 8/10\n",
      "7108/7108 [==============================] - 24s 3ms/step - loss: 0.7921 - accuracy: 0.5524 - val_loss: 1.0594 - val_accuracy: 0.5534\n",
      "Epoch 9/10\n",
      "7108/7108 [==============================] - 17s 2ms/step - loss: 0.7919 - accuracy: 0.5556 - val_loss: 1.0593 - val_accuracy: 0.5562\n",
      "Epoch 10/10\n",
      "7108/7108 [==============================] - 26s 4ms/step - loss: 0.7915 - accuracy: 0.5589 - val_loss: 1.0581 - val_accuracy: 0.5608\n"
     ]
    }
   ],
   "source": [
    "#Save history to plot learning curves\n",
    "history = model.fit(X_train, X_train,\n",
    "epochs=10,\n",
    "batch_size=32,\n",
    "shuffle=True,\n",
    "validation_data=(X_test, X_test),\n",
    "verbose=1,\n",
    "callbacks=[checkpointer]).history\n",
    " \n",
    "autoencoder = load_model('nae.h5')\n",
    " "
   ]
  },
  {
   "cell_type": "code",
   "execution_count": 13,
   "id": "e5ebbf71",
   "metadata": {},
   "outputs": [
    {
     "data": {
      "text/plain": [
       "Text(0.5, 0, 'epoch')"
      ]
     },
     "execution_count": 13,
     "metadata": {},
     "output_type": "execute_result"
    },
    {
     "data": {
      "image/png": "[encoded data removed]",
      "text/plain": [
       "<Figure size 640x480 with 1 Axes>"
      ]
     },
     "metadata": {},
     "output_type": "display_data"
    }
   ],
   "source": [
    "#Plot losses\n",
    "plt.plot(history['loss'])\n",
    "plt.plot(history['val_loss'])\n",
    "plt.title('model loss')\n",
    "plt.ylabel('loss')\n",
    "plt.xlabel('epoch')"
   ]
  },
  {
   "cell_type": "code",
   "execution_count": 14,
   "id": "1717e065",
   "metadata": {},
   "outputs": [
    {
     "name": "stdout",
     "output_type": "stream",
     "text": [
      "1793/1793 [==============================] - 4s 2ms/step\n"
     ]
    }
   ],
   "source": [
    "#Predict on test set\n",
    "predictions = model.predict(X_test)\n",
    " \n",
    "mse = np.mean(np.power(X_test - predictions, 2), axis=1)\n",
    "error_df = pd.DataFrame({'mse': mse,'fraud': y_test})"
   ]
  },
  {
   "cell_type": "code",
   "execution_count": 15,
   "id": "dde402be",
   "metadata": {},
   "outputs": [],
   "source": [
    "#Set an error threshold above which a transaction is considered fraud\n",
    "threshold = 4.5\n",
    "error_df['pred_01'] = [1 if e > threshold else 0 for e in error_df['mse'].values]\n",
    "conf_mat = confusion_matrix(error_df['fraud'], error_df['pred_01'])"
   ]
  },
  {
   "cell_type": "code",
   "execution_count": 16,
   "id": "5cce3463",
   "metadata": {},
   "outputs": [
    {
     "data": {
      "text/plain": [
       "[Text(0, 0.5, 'Normal'), Text(0, 1.5, 'Fraud')]"
      ]
     },
     "execution_count": 16,
     "metadata": {},
     "output_type": "execute_result"
    },
    {
     "data": {
      "image/png": "[encoded data removed]",
      "text/plain": [
       "<Figure size 640x480 with 2 Axes>"
      ]
     },
     "metadata": {},
     "output_type": "display_data"
    }
   ],
   "source": [
    "#Print confusion matrix for the given threshold\n",
    "ax= plt.subplot()\n",
    "sns.heatmap(conf_mat, annot=True, fmt=\"g\", cmap=\"YlGnBu\")\n",
    "# labels, title and ticks\n",
    "ax.set_xlabel('Predicted labels');ax.set_ylabel('True labels');\n",
    "ax.set_title('Confusion Matrix');\n",
    "ax.set_ylim([0,2])\n",
    "ax.xaxis.set_ticklabels([\"Normal\", \"Fraud\"]); ax.yaxis.set_ticklabels([\"Normal\", \"Fraud\"])"
   ]
  },
  {
   "cell_type": "code",
   "execution_count": null,
   "id": "b5a90bb8",
   "metadata": {},
   "outputs": [],
   "source": [
    "\n"
   ]
  },
  {
   "cell_type": "code",
   "execution_count": null,
   "id": "da990b24",
   "metadata": {},
   "outputs": [],
   "source": []
  },
  {
   "cell_type": "code",
   "execution_count": null,
   "id": "192b62d3",
   "metadata": {},
   "outputs": [],
   "source": []
  }
 ],
 "metadata": {
  "kernelspec": {
   "display_name": "Python 3 (ipykernel)",
   "language": "python",
   "name": "python3"
  },
  "language_info": {
   "codemirror_mode": {
    "name": "ipython",
    "version": 3
   },
   "file_extension": ".py",
   "mimetype": "text/x-python",
   "name": "python",
   "nbconvert_exporter": "python",
   "pygments_lexer": "ipython3",
   "version": "3.10.7"
  }
 },
 "nbformat": 4,
 "nbformat_minor": 5
}
